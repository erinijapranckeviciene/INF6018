{
 "cells": [
  {
   "cell_type": "code",
   "execution_count": 1,
   "id": "50a36aa4-f3f3-4681-870d-44b8638598df",
   "metadata": {},
   "outputs": [
    {
     "name": "stderr",
     "output_type": "stream",
     "text": [
      "\n",
      "Attaching package: ‘igraph’\n",
      "\n",
      "\n",
      "The following objects are masked from ‘package:stats’:\n",
      "\n",
      "    decompose, spectrum\n",
      "\n",
      "\n",
      "The following object is masked from ‘package:base’:\n",
      "\n",
      "    union\n",
      "\n",
      "\n"
     ]
    }
   ],
   "source": [
    "library(\"igraph\")"
   ]
  },
  {
   "cell_type": "markdown",
   "id": "49b86bae-b32c-4946-9a4e-ec1d6d68fa27",
   "metadata": {},
   "source": [
    "# Title 1\n",
    "### Title 2\n",
    "\n",
    "link [this is VDU](www.vdu.lt)"
   ]
  }
 ],
 "metadata": {
  "kernelspec": {
   "display_name": "R",
   "language": "R",
   "name": "ir"
  },
  "language_info": {
   "codemirror_mode": "r",
   "file_extension": ".r",
   "mimetype": "text/x-r-source",
   "name": "R",
   "pygments_lexer": "r",
   "version": "4.1.2"
  }
 },
 "nbformat": 4,
 "nbformat_minor": 5
}
